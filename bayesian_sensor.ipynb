{
 "cells": [
  {
   "cell_type": "code",
   "execution_count": 1,
   "metadata": {},
   "outputs": [],
   "source": [
    "from bayesian_sensor import Bayesian"
   ]
  },
  {
   "cell_type": "markdown",
   "metadata": {},
   "source": [
    "## Observations"
   ]
  },
  {
   "cell_type": "code",
   "execution_count": 2,
   "metadata": {},
   "outputs": [],
   "source": [
    "presence = Bayesian('Tv in the evening', 0.3, 0.8)\n",
    "presence.add_observation('home', 0.4, 0.15, 'state', 'zoning', 'zone.home')\n",
    "presence.add_observation('evening', 0.4, 0.15, 'numeric_state', {'min': 20, 'max': 23}, 'sensor.hour')\n",
    "presence.add_observation('media', 0.9, 0.2, 'template', '{{ is_state_attr(\"media_player.chromecast\", \"media_content_type\", \"tvshow\") }}')\n"
   ]
  },
  {
   "cell_type": "markdown",
   "metadata": {},
   "source": [
    "## Individual results"
   ]
  },
  {
   "cell_type": "code",
   "execution_count": 3,
   "metadata": {},
   "outputs": [
    {
     "name": "stdout",
     "output_type": "stream",
     "text": [
      "Tv in the evening: off (0.53)\n",
      "Tv in the evening: off (0.53)\n",
      "Tv in the evening: off (0.66)\n"
     ]
    }
   ],
   "source": [
    "presence.get_formatted_probability(['home'])\n",
    "presence.get_formatted_probability(['evening'])\n",
    "presence.get_formatted_probability(['media'])"
   ]
  },
  {
   "cell_type": "markdown",
   "metadata": {},
   "source": [
    "## Test cases"
   ]
  },
  {
   "cell_type": "code",
   "execution_count": 4,
   "metadata": {},
   "outputs": [
    {
     "name": "stdout",
     "output_type": "stream",
     "text": [
      "Tv in the evening: on (0.93)\n"
     ]
    }
   ],
   "source": [
    "# At home in the evening with media playing\n",
    "presence.get_formatted_probability(['home', 'evening', 'media'])"
   ]
  },
  {
   "cell_type": "code",
   "execution_count": 5,
   "metadata": {},
   "outputs": [
    {
     "name": "stdout",
     "output_type": "stream",
     "text": [
      "Tv in the evening: on (0.84)\n"
     ]
    }
   ],
   "source": [
    "# At home with media playing\n",
    "presence.get_formatted_probability(['home', 'media'])"
   ]
  },
  {
   "cell_type": "markdown",
   "metadata": {},
   "source": [
    "## Sensor"
   ]
  },
  {
   "cell_type": "code",
   "execution_count": 6,
   "metadata": {},
   "outputs": [
    {
     "name": "stdout",
     "output_type": "stream",
     "text": [
      "- platform: bayesian\n",
      "  name: Tv in the evening\n",
      "  prior: 0.3\n",
      "  probability_threshold: 0.8\n",
      "  observations:\n",
      "    - platform: state\n",
      "      entity_id: zone.home\n",
      "      to_state: \"zoning\"\n",
      "      prob_given_true: 0.4\n",
      "      prob_given_false: 0.15\n",
      "    - platform: numeric_state\n",
      "      entity_id: sensor.hour\n",
      "      min: 20\n",
      "      max: 23\n",
      "      prob_given_true: 0.4\n",
      "      prob_given_false: 0.15\n",
      "    - platform: value_template\n",
      "      value_template: >-\n",
      "        {{ is_state_attr(\"media_player.chromecast\", \"media_content_type\", \"tvshow\") }}\n",
      "      prob_given_true: 0.9\n",
      "      prob_given_false: 0.2\n",
      "\n"
     ]
    }
   ],
   "source": [
    "presence.get_sensor()"
   ]
  }
 ],
 "metadata": {
  "kernelspec": {
   "display_name": "Python 3",
   "language": "python",
   "name": "python3"
  },
  "language_info": {
   "codemirror_mode": {
    "name": "ipython",
    "version": 3
   },
   "file_extension": ".py",
   "mimetype": "text/x-python",
   "name": "python",
   "nbconvert_exporter": "python",
   "pygments_lexer": "ipython3",
   "version": "3.6.8"
  }
 },
 "nbformat": 4,
 "nbformat_minor": 4
}
